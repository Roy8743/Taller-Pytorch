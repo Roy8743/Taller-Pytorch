{
  "nbformat": 4,
  "nbformat_minor": 0,
  "metadata": {
    "colab": {
      "name": "Taller_Pytorch.ipynb",
      "provenance": [],
      "collapsed_sections": []
    },
    "kernelspec": {
      "name": "python3",
      "display_name": "Python 3"
    },
    "language_info": {
      "name": "python"
    }
  },
  "cells": [
    {
      "cell_type": "markdown",
      "source": [
        "#Estudiante: Roy Chavarría Garita\n",
        "##Semana #1"
      ],
      "metadata": {
        "id": "z5HN5mSU093J"
      }
    },
    {
      "cell_type": "markdown",
      "source": [
        "###Ejercicios\n",
        "-Escribir con sus palabras que entendieron sobre que es un tensor \\\n",
        "-Escribir un código que cree dos tensores con una matriz random y realice una multiplicacion de matrices entre los tensores"
      ],
      "metadata": {
        "id": "Q-DYg_G11QyY"
      }
    },
    {
      "cell_type": "markdown",
      "source": [
        "Un tensor lo entiendo como un arreglo o una matriz de datos numéricos, esto sirve para trabajar en espacios multilineales y siento que facilita no solo trabajr en computación sino que en otras ramas de la ciencia que se trabaje con álgebra. "
      ],
      "metadata": {
        "id": "GlsGyay0-_5I"
      }
    },
    {
      "cell_type": "code",
      "source": [
        "!pip install torch numpy"
      ],
      "metadata": {
        "colab": {
          "base_uri": "https://localhost:8080/"
        },
        "id": "vAUbnNuc-IuN",
        "outputId": "acb964d1-29af-4f83-ca7a-fb57d028f426"
      },
      "execution_count": 2,
      "outputs": [
        {
          "output_type": "stream",
          "name": "stdout",
          "text": [
            "Requirement already satisfied: torch in /usr/local/lib/python3.7/dist-packages (1.10.0+cu111)\n",
            "Requirement already satisfied: numpy in /usr/local/lib/python3.7/dist-packages (1.21.6)\n",
            "Requirement already satisfied: typing-extensions in /usr/local/lib/python3.7/dist-packages (from torch) (4.1.1)\n"
          ]
        }
      ]
    },
    {
      "cell_type": "code",
      "source": [
        "###Bibliotecas\n",
        "import torch"
      ],
      "metadata": {
        "id": "RtYqNFcv-NNS"
      },
      "execution_count": 3,
      "outputs": []
    },
    {
      "cell_type": "code",
      "source": [
        "m1 = torch.randint(10, (3, 3))\n",
        "m2 = torch.randint(10, (3, 3))\n",
        "\n",
        "def multiplicacionDeMatrices(m1,m2):\n",
        "  if m1.size()[1] == m2.size()[0]:\n",
        "        return m1.mm(m2)\n",
        "print(\"Multiplicación de matrices: \\n\\n\", multiplicacionDeMatrices(m1,m2))\n"
      ],
      "metadata": {
        "colab": {
          "base_uri": "https://localhost:8080/"
        },
        "id": "k8ZXJqza1JNL",
        "outputId": "523e16cb-28ed-45d9-9915-c76b307da366"
      },
      "execution_count": 8,
      "outputs": [
        {
          "output_type": "stream",
          "name": "stdout",
          "text": [
            "Multiplicación de matrices: \n",
            "\n",
            " tensor([[ 94,  36,  84],\n",
            "        [138,  37, 113],\n",
            "        [ 96,  46,  92]])\n"
          ]
        }
      ]
    }
  ]
}