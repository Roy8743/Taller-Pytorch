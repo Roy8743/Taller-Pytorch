{
  "nbformat": 4,
  "nbformat_minor": 0,
  "metadata": {
    "colab": {
      "name": "Taller_Pytorch_T2.ipynb",
      "provenance": [],
      "collapsed_sections": []
    },
    "kernelspec": {
      "name": "python3",
      "display_name": "Python 3"
    },
    "language_info": {
      "name": "python"
    }
  },
  "cells": [
    {
      "cell_type": "markdown",
      "source": [
        "#Estudiante: Roy Chavarría Garita\n",
        "##Semana #1"
      ],
      "metadata": {
        "id": "seRw3v4HQuQa"
      }
    },
    {
      "cell_type": "markdown",
      "source": [
        "###Ejercicios\n",
        "-Replicar lo visto en el video https://www.youtube.com/watch?v=eeLch59fU78"
      ],
      "metadata": {
        "id": "u2TlnTdfQv2u"
      }
    },
    {
      "cell_type": "code",
      "source": [
        "!pip install torch numpy"
      ],
      "metadata": {
        "colab": {
          "base_uri": "https://localhost:8080/"
        },
        "id": "vqrUYVuLQ533",
        "outputId": "ff22427a-0661-4472-fbb0-ab4e8f2892d7"
      },
      "execution_count": 1,
      "outputs": [
        {
          "output_type": "stream",
          "name": "stdout",
          "text": [
            "Requirement already satisfied: torch in /usr/local/lib/python3.7/dist-packages (1.11.0+cu113)\n",
            "Requirement already satisfied: numpy in /usr/local/lib/python3.7/dist-packages (1.21.6)\n",
            "Requirement already satisfied: typing-extensions in /usr/local/lib/python3.7/dist-packages (from torch) (4.2.0)\n"
          ]
        }
      ]
    },
    {
      "cell_type": "code",
      "source": [
        "###Bibliotecas\n",
        "import torch\n",
        "import numpy as np"
      ],
      "metadata": {
        "id": "CMXdd9OhQ8-I"
      },
      "execution_count": 2,
      "outputs": []
    },
    {
      "cell_type": "markdown",
      "source": [
        "Un modelo es lo que trata de imitar un ser humano dentro de una red neuronal. Ejemplo: predecir toneladas de manzanas y naranjas producidas en una región. ESto se hace en base a parámetros como lluvia, humedad, temeperatura, etc. \\\\\n",
        "A cada uno de esos parametros se multiplican por unos pesos y se les suma una constante. Ejemplo: \\\\\n",
        "Manzanas = w1*temperatura+w2*lluvia+w3*humedad + b1 \\\\\n",
        "Con datos previos, el modelo podrá predecir correctamente.\n"
      ],
      "metadata": {
        "id": "gxCTMnxJRZ3B"
      }
    },
    {
      "cell_type": "code",
      "source": [
        " #Temperatura, lluvia, humedad\n",
        " entradas = np.array([[73,67,43],\n",
        "                     [91,88,64],\n",
        "                     [87,134,58],\n",
        "                     [102,43,37],\n",
        "                     [69,96,70]], dtype='float32')\n",
        "\n",
        "#(Manzanas o naranjas)\n",
        "resultados = np.array([[56,70],\n",
        "                       [81,101],\n",
        "                       [119,133],\n",
        "                       [22,37],\n",
        "                       [103,119]],dtype='float32')\n",
        "\n",
        "\n",
        "#Los datos que leo normalmente es en un csv, pero como este es un ejemplo\n",
        "#vendrán en esas matrices, ojo que son muy pocos datos"
      ],
      "metadata": {
        "id": "saI0YieKST9D"
      },
      "execution_count": 3,
      "outputs": []
    },
    {
      "cell_type": "code",
      "source": [
        "#Convierto entradas y salidas a tensores\n",
        "entradas = torch.from_numpy(entradas)\n",
        "resultados = torch.from_numpy(resultados)\n",
        "print(entradas)\n",
        "print(resultados)\n"
      ],
      "metadata": {
        "colab": {
          "base_uri": "https://localhost:8080/"
        },
        "id": "ShTYh41AUNx4",
        "outputId": "5a949b6d-347f-49f0-d426-d87075124f5d"
      },
      "execution_count": 4,
      "outputs": [
        {
          "output_type": "stream",
          "name": "stdout",
          "text": [
            "tensor([[ 73.,  67.,  43.],\n",
            "        [ 91.,  88.,  64.],\n",
            "        [ 87., 134.,  58.],\n",
            "        [102.,  43.,  37.],\n",
            "        [ 69.,  96.,  70.]])\n",
            "tensor([[ 56.,  70.],\n",
            "        [ 81., 101.],\n",
            "        [119., 133.],\n",
            "        [ 22.,  37.],\n",
            "        [103., 119.]])\n"
          ]
        }
      ]
    },
    {
      "cell_type": "markdown",
      "source": [
        "##Creación del modelo\n",
        "\n",
        "Recordando por ejemplo los pesos y sesgos para la manzana: Manzanas = w1temperatura+w2lluvia+w3*humedad + b1"
      ],
      "metadata": {
        "id": "AppyZLEmUlNX"
      }
    },
    {
      "cell_type": "code",
      "source": [
        "pesos = torch.rand(2,3,requires_grad=True)\n",
        "sesgos = torch.rand(2, requires_grad=True)\n",
        "\n",
        "print(pesos)\n",
        "print(sesgos)\n"
      ],
      "metadata": {
        "colab": {
          "base_uri": "https://localhost:8080/"
        },
        "id": "ZcCRJGGXUkA9",
        "outputId": "7e5b5a36-f6a4-43ed-ee16-36ebce1cbd8c"
      },
      "execution_count": 5,
      "outputs": [
        {
          "output_type": "stream",
          "name": "stdout",
          "text": [
            "tensor([[0.3993, 0.6331, 0.5668],\n",
            "        [0.8458, 0.0179, 0.7895]], requires_grad=True)\n",
            "tensor([0.6140, 0.5374], requires_grad=True)\n"
          ]
        }
      ]
    },
    {
      "cell_type": "code",
      "source": [
        "#Genero el modelo\n",
        "def model(entrada):\n",
        "  return entrada @ pesos.t() + sesgos"
      ],
      "metadata": {
        "id": "injy-DLrWU-F"
      },
      "execution_count": 6,
      "outputs": []
    },
    {
      "cell_type": "code",
      "source": [
        "predicciones = model(entradas)\n",
        "print(predicciones)\n",
        "print(resultados)\n",
        "\n",
        "#Hay una prediccion bastante mala, debemos ir ajustando pesos y sesgos"
      ],
      "metadata": {
        "colab": {
          "base_uri": "https://localhost:8080/"
        },
        "id": "D_IYr4fCWrx0",
        "outputId": "b60605ea-460c-4bee-9991-f137678e5fce"
      },
      "execution_count": 7,
      "outputs": [
        {
          "output_type": "stream",
          "name": "stdout",
          "text": [
            "tensor([[ 96.5500,  97.4341],\n",
            "        [128.9340, 129.6158],\n",
            "        [153.0571, 122.3198],\n",
            "        [ 89.5359, 116.7957],\n",
            "        [128.6143, 115.8881]], grad_fn=<AddBackward0>)\n",
            "tensor([[ 56.,  70.],\n",
            "        [ 81., 101.],\n",
            "        [119., 133.],\n",
            "        [ 22.,  37.],\n",
            "        [103., 119.]])\n"
          ]
        }
      ]
    },
    {
      "cell_type": "markdown",
      "source": [
        "Como lo anterior me predice bastante mal, voy a utilizar el algoritmo MSE (error cuadratico medio), el cual me ayuda a ir ajustando los pesos y sesgos para mejorar mi predicción.\n",
        "Este algoritmo tiene 3 pasos: \\\\\n",
        "- Calcular diferencia entre matriz de predicciones y la de resultados.\n",
        "- Elevar al cuadrado la matriz resultante para eliminar negativos.\n",
        "-Calcular el valor promedio de los elementos de la matriz."
      ],
      "metadata": {
        "id": "tUCLcgJIXiwK"
      }
    },
    {
      "cell_type": "code",
      "source": [
        "def mse(m1,m2):\n",
        "  diff = m1 - m2\n",
        "  return torch.sum(diff * diff) / diff.numel() #numel es para que me tire resultado en tensores"
      ],
      "metadata": {
        "id": "x0woS0QuXPs8"
      },
      "execution_count": 8,
      "outputs": []
    },
    {
      "cell_type": "code",
      "source": [
        "loss = mse(predicciones, resultados)\n",
        "print(loss)\n"
      ],
      "metadata": {
        "colab": {
          "base_uri": "https://localhost:8080/"
        },
        "id": "VHMlS5eCYfft",
        "outputId": "7a0343a0-da2e-4bc1-fc8a-f0db80a9e2bd"
      },
      "execution_count": 9,
      "outputs": [
        {
          "output_type": "stream",
          "name": "stdout",
          "text": [
            "tensor(1838.1647, grad_fn=<DivBackward0>)\n"
          ]
        }
      ]
    },
    {
      "cell_type": "markdown",
      "source": [
        "Loss en este momento es muy tonta, no predice bien por lo que debemos ajustar pesos y sesgos para que ese loss se aproxime a 0. Esto lo vamos a hacer con el calculo de gradiente.\n",
        "Calculamos gradiente respecto a peso y eso nos ayudará a reducir loss. \\\\\n",
        "-Si gradiente de un peso es positivo, un incremento en ese peso aumenta el loss y un decremento lo disminuye.\n",
        "- Si el gradiente de un peso es negativo, un incremento en el valor del peso disminuye loss y una reduccion aumenta el loss."
      ],
      "metadata": {
        "id": "Wz5H-DAQarSO"
      }
    },
    {
      "cell_type": "code",
      "source": [
        "#Guardo las gradientes en cada uno de los pesos\n",
        "loss.backward()"
      ],
      "metadata": {
        "id": "no2_HLmQbnGO"
      },
      "execution_count": 10,
      "outputs": []
    },
    {
      "cell_type": "markdown",
      "source": [
        "Ya con los pesos guardados, tengo que ir ajustandolos poco a poco, no puedo dar pasos grandes. Una opción que podemos hacer es sustraer a cada peso una cantidad pequeña proporcional a la derivada de ese peso."
      ],
      "metadata": {
        "id": "bgrNfpvwbxhh"
      }
    },
    {
      "cell_type": "code",
      "source": [
        "with torch.no_grad():\n",
        "  pesos -= pesos.grad * 0.00005\n",
        "  sesgos -= sesgos.grad * 0.00005\n"
      ],
      "metadata": {
        "id": "8ih0Dp2Nbwuk"
      },
      "execution_count": 11,
      "outputs": []
    },
    {
      "cell_type": "code",
      "source": [
        "predicciones = model(entradas)\n",
        "loss = mse(predicciones,resultados)\n",
        "print(loss)\n"
      ],
      "metadata": {
        "colab": {
          "base_uri": "https://localhost:8080/"
        },
        "id": "CHw6doprc1SL",
        "outputId": "3a0004ca-a8a2-455d-975e-f58d89a73bd0"
      },
      "execution_count": 12,
      "outputs": [
        {
          "output_type": "stream",
          "name": "stdout",
          "text": [
            "tensor(752.4502, grad_fn=<DivBackward0>)\n"
          ]
        }
      ]
    },
    {
      "cell_type": "code",
      "source": [
        "pesos.grad.zero_()\n",
        "sesgos.grad.zero_()\n",
        "print(pesos.grad)\n",
        "print(sesgos.grad)"
      ],
      "metadata": {
        "colab": {
          "base_uri": "https://localhost:8080/"
        },
        "id": "E0Vxf6R-c9pl",
        "outputId": "045ebfd7-ad50-4fea-c001-e067d3a16ff3"
      },
      "execution_count": 13,
      "outputs": [
        {
          "output_type": "stream",
          "name": "stdout",
          "text": [
            "tensor([[0., 0., 0.],\n",
            "        [0., 0., 0.]])\n",
            "tensor([0., 0.])\n"
          ]
        }
      ]
    },
    {
      "cell_type": "markdown",
      "source": [
        "##Resumen\n",
        "1. Generar las predicciones\n",
        "2. Calcular el loss\n",
        "3. Calcular las gradientes con respecto a pesos y sesgos\n",
        "4. Ajustar los pesos sustrayeno de ellos una pequeña cantidad proporcional al gradiente\n",
        "5. Reiniciar gradientes a 0\n",
        "\n",
        "Todo esto hay que hacerlo varias veces, esto se llama ciclo de entrenamiento, con varios ciclos el loss va disminuyendo"
      ],
      "metadata": {
        "id": "1lmRtuFBfEys"
      }
    }
  ]
}