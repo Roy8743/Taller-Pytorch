{
  "nbformat": 4,
  "nbformat_minor": 0,
  "metadata": {
    "colab": {
      "name": "Taller_Pytorch_T3.ipynb",
      "provenance": [],
      "collapsed_sections": []
    },
    "kernelspec": {
      "name": "python3",
      "display_name": "Python 3"
    },
    "language_info": {
      "name": "python"
    }
  },
  "cells": [
    {
      "cell_type": "markdown",
      "source": [
        "# Estudiante: Roy Chavarría Garita\n",
        "## Semana #3"
      ],
      "metadata": {
        "id": "-_QxEnqmyVMz"
      }
    },
    {
      "cell_type": "markdown",
      "source": [
        "### Ejercicios\n",
        "-Replicar lo visto en el video https://youtu.be/oYBHzSs7eRo"
      ],
      "metadata": {
        "id": "vO1LZKowya7M"
      }
    },
    {
      "cell_type": "code",
      "source": [
        "###Bibliotecas\n",
        "#nn es nuronal networks\n",
        "import torch.nn as nn\n",
        "import numpy as np\n",
        "import torch"
      ],
      "metadata": {
        "id": "chb9ZGNuym5J"
      },
      "execution_count": 1,
      "outputs": []
    },
    {
      "cell_type": "code",
      "source": [
        "#inputs = (temperatura, precipitacion, humedad)\n",
        "inputs = np.array([[73,67,43],\n",
        "                  [91,88,64],\n",
        "                  [87,134,58],\n",
        "                  [102,43,37],\n",
        "                  [69,96,70],\n",
        "                  [74,66,43],\n",
        "                  [91,87,65],\n",
        "                  [88,134,59],\n",
        "                  [101,44,37],\n",
        "                  [68,96,71],\n",
        "                  [73,66,44],\n",
        "                  [92,87,64],\n",
        "                  [87,135,57],\n",
        "                  [103,43,36],\n",
        "                  [68,97,70]], dtype='float32')\n",
        "\n",
        "#targets (manzanas, naranjas)\n",
        "\n",
        "targets = np.array([[56,70],\n",
        "                    [81,101],\n",
        "                    [119,133],\n",
        "                    [22,37],\n",
        "                    [185,119],\n",
        "                    [57,69],\n",
        "                    [82,102],\n",
        "                    [118,132],\n",
        "                    [21,38],\n",
        "                    [104,118],\n",
        "                    [57,69],\n",
        "                    [82,100],\n",
        "                    [118,134],\n",
        "                    [20,38],\n",
        "                    [102,120]],dtype='float32')\n",
        "\n",
        "\n",
        "inputs = torch.from_numpy(inputs)\n",
        "targets = torch.from_numpy(targets)\n",
        "\n",
        "print(inputs.size())\n",
        "print(targets.size())"
      ],
      "metadata": {
        "id": "B3GR4No3zPAP",
        "colab": {
          "base_uri": "https://localhost:8080/"
        },
        "outputId": "fedd6d6d-c964-4795-b9b2-984016eb80c7"
      },
      "execution_count": 2,
      "outputs": [
        {
          "output_type": "stream",
          "name": "stdout",
          "text": [
            "torch.Size([15, 3])\n",
            "torch.Size([15, 2])\n"
          ]
        }
      ]
    },
    {
      "cell_type": "code",
      "source": [
        "## Datase\n",
        "#Ayuda a crear un conjunto de entrenamiento, en donde se encuentran inputs y tragets"
      ],
      "metadata": {
        "id": "gGEQXT-2VFh3"
      },
      "execution_count": 3,
      "outputs": []
    },
    {
      "cell_type": "code",
      "source": [
        "from torch.utils.data import TensorDataset"
      ],
      "metadata": {
        "id": "3jgnB8jCU9wO"
      },
      "execution_count": 4,
      "outputs": []
    },
    {
      "cell_type": "code",
      "source": [
        "train_dataset = TensorDataset(inputs,targets)"
      ],
      "metadata": {
        "id": "1_0krLORVUNz"
      },
      "execution_count": 5,
      "outputs": []
    },
    {
      "cell_type": "code",
      "source": [
        "#EL trainset es un par ordenado en donde el par en la 0 son los inputs y en la posicion 1 los targest\n",
        "print(train_dataset[0])"
      ],
      "metadata": {
        "colab": {
          "base_uri": "https://localhost:8080/"
        },
        "id": "a6taU9xwVfnZ",
        "outputId": "201f36d9-26b7-4d97-a252-6f58d82444c8"
      },
      "execution_count": 6,
      "outputs": [
        {
          "output_type": "stream",
          "name": "stdout",
          "text": [
            "(tensor([73., 67., 43.]), tensor([56., 70.]))\n"
          ]
        }
      ]
    },
    {
      "cell_type": "markdown",
      "source": [
        "## DataLoader\n",
        "\n",
        "Clase que permite cargar datos que estan en el dataset y así poder prepararlos para entrenamiento"
      ],
      "metadata": {
        "id": "i4uv1XIcV2ey"
      }
    },
    {
      "cell_type": "code",
      "source": [
        "from torch.utils.data.dataloader import DataLoader\n",
        " #Definir el dataloader\n",
        "#batch_size = 15\n",
        "train_dataloader = DataLoader(train_dataset, batch_size=5, shuffle=True)"
      ],
      "metadata": {
        "id": "5Vt_l-3EV141"
      },
      "execution_count": 7,
      "outputs": []
    },
    {
      "cell_type": "code",
      "source": [
        "for input, target in train_dataloader:\n",
        "  print(input)\n",
        "  print(target)\n",
        "  break"
      ],
      "metadata": {
        "colab": {
          "base_uri": "https://localhost:8080/"
        },
        "id": "NvfKtj74XKim",
        "outputId": "ab1ac706-3095-4afb-ffe3-4744b4940713"
      },
      "execution_count": 8,
      "outputs": [
        {
          "output_type": "stream",
          "name": "stdout",
          "text": [
            "tensor([[ 87., 135.,  57.],\n",
            "        [ 73.,  67.,  43.],\n",
            "        [103.,  43.,  36.],\n",
            "        [ 88., 134.,  59.],\n",
            "        [101.,  44.,  37.]])\n",
            "tensor([[118., 134.],\n",
            "        [ 56.,  70.],\n",
            "        [ 20.,  38.],\n",
            "        [118., 132.],\n",
            "        [ 21.,  38.]])\n"
          ]
        }
      ]
    },
    {
      "cell_type": "markdown",
      "source": [
        "Un dataloader \n",
        "EL batch size es para recorrer el dataloader de 5 en 5.\n",
        "El shuffle es para que me agarre los datos de forma aleatoria."
      ],
      "metadata": {
        "id": "-CJsq8WvWmto"
      }
    },
    {
      "cell_type": "code",
      "source": [
        "#Esta función ya crea los pesos y sesgos de forma aleatoria\n",
        "# 3 es la cantida de entradas de un input y 2 la de los targets\n",
        "model = nn.Linear(3,2)\n",
        "\n",
        "print(model.weight)\n",
        "print(model.bias)"
      ],
      "metadata": {
        "id": "2gzolc7eXbgk",
        "colab": {
          "base_uri": "https://localhost:8080/"
        },
        "outputId": "0f81fa82-9685-4f7f-e8fd-ff8248d53de2"
      },
      "execution_count": 9,
      "outputs": [
        {
          "output_type": "stream",
          "name": "stdout",
          "text": [
            "Parameter containing:\n",
            "tensor([[ 0.1272, -0.2572,  0.1031],\n",
            "        [ 0.2556, -0.2437,  0.0124]], requires_grad=True)\n",
            "Parameter containing:\n",
            "tensor([-0.4048,  0.5063], requires_grad=True)\n"
          ]
        }
      ]
    },
    {
      "cell_type": "code",
      "source": [
        "#Otra froma de ver los pesos y sesgos es \n",
        "list(model.parameters())"
      ],
      "metadata": {
        "colab": {
          "base_uri": "https://localhost:8080/"
        },
        "id": "iC7HlUe6tLt9",
        "outputId": "97de1a16-731d-48dc-8cf9-8c07560d8966"
      },
      "execution_count": 10,
      "outputs": [
        {
          "output_type": "execute_result",
          "data": {
            "text/plain": [
              "[Parameter containing:\n",
              " tensor([[ 0.1272, -0.2572,  0.1031],\n",
              "         [ 0.2556, -0.2437,  0.0124]], requires_grad=True),\n",
              " Parameter containing:\n",
              " tensor([-0.4048,  0.5063], requires_grad=True)]"
            ]
          },
          "metadata": {},
          "execution_count": 10
        }
      ]
    },
    {
      "cell_type": "code",
      "source": [
        "#Genero las predicciones\n",
        "predicciones = model(inputs)\n",
        "print(predicciones)"
      ],
      "metadata": {
        "colab": {
          "base_uri": "https://localhost:8080/"
        },
        "id": "94BWh0eLtcPz",
        "outputId": "4619be9a-eee7-424f-e5f5-860db5ded0bd"
      },
      "execution_count": 11,
      "outputs": [
        {
          "output_type": "stream",
          "name": "stdout",
          "text": [
            "tensor([[ -3.9181,   3.3707],\n",
            "        [ -4.8641,   3.1147],\n",
            "        [-17.8231,  -9.1925],\n",
            "        [  5.3240,  16.5566],\n",
            "        [ -9.1008,  -4.3830],\n",
            "        [ -3.5338,   3.8700],\n",
            "        [ -4.5038,   3.3708],\n",
            "        [-17.5927,  -8.9245],\n",
            "        [  4.9397,  16.0573],\n",
            "        [ -9.1248,  -4.6261],\n",
            "        [ -3.5578,   3.6268],\n",
            "        [ -4.4798,   3.6140],\n",
            "        [-18.1834,  -9.4486],\n",
            "        [  5.3481,  16.7997],\n",
            "        [ -9.4852,  -4.8822]], grad_fn=<AddmmBackward0>)\n"
          ]
        }
      ]
    },
    {
      "cell_type": "markdown",
      "source": [
        "## Loss\n",
        "Definir la funcion de loss"
      ],
      "metadata": {
        "id": "mNmPH0kktoI3"
      }
    },
    {
      "cell_type": "code",
      "source": [
        "#Me ayuda a calcular el loss\n",
        "import torch.nn.functional as F"
      ],
      "metadata": {
        "id": "jujWBOalt0s6"
      },
      "execution_count": 12,
      "outputs": []
    },
    {
      "cell_type": "code",
      "source": [
        "#Loss con mean square , F tienen varias funciones pero yo solo uso la del mse\n",
        "loss_function = F.mse_loss"
      ],
      "metadata": {
        "id": "p1c4XdnxuByf"
      },
      "execution_count": 13,
      "outputs": []
    },
    {
      "cell_type": "code",
      "source": [
        "predicciones = model(inputs)\n",
        "loss = loss_function(predicciones, targets)\n",
        "print(loss)"
      ],
      "metadata": {
        "colab": {
          "base_uri": "https://localhost:8080/"
        },
        "id": "xM5xQXfuuZB1",
        "outputId": "4b0f330d-865d-4f29-9712-8cd55c768f12"
      },
      "execution_count": 14,
      "outputs": [
        {
          "output_type": "stream",
          "name": "stdout",
          "text": [
            "tensor(10065.8447, grad_fn=<MseLossBackward0>)\n"
          ]
        }
      ]
    },
    {
      "cell_type": "markdown",
      "source": [
        "## OPtimizador\n",
        "Manera que me ayuda a modificar automaticamente los pesos y sesgos"
      ],
      "metadata": {
        "id": "TL-QIP1guuE9"
      }
    },
    {
      "cell_type": "code",
      "source": [
        "optimizer = torch.optim.SGD(model.parameters(), lr = 1e-5)"
      ],
      "metadata": {
        "id": "SkUTWqMGu7dr"
      },
      "execution_count": 15,
      "outputs": []
    },
    {
      "cell_type": "code",
      "source": [
        "#FUncion general que contiene todo lo anterior pero esta vez para entrenar\n",
        "\n",
        "def training(epochs, model, loss_function, optimizer, train_dataloader):\n",
        "  #Este es el ciclo de entrenamiento\n",
        "  #iteramos sobre el numero de epochs de entrenamiento\n",
        "  for epoch in range(epochs):\n",
        "\n",
        "    for input, target in train_dataloader:\n",
        "\n",
        "      #genero predicciones\n",
        "      predictions = model(input)\n",
        "\n",
        "      #calculo el loss\n",
        "      loss = loss_function(predictions, target)\n",
        "\n",
        "      #Calculo de gradiente\n",
        "      loss.backward()\n",
        "\n",
        "      #Ajuste de pesos y sesgos\n",
        "      optimizer.step()\n",
        "\n",
        "      #Reseteo de gradientes a 0\n",
        "      optimizer.zero_grad()\n",
        "\n",
        "    if((epoch+1)%10 == 0):\n",
        "      print('epochs [{}/{}], Loss: {:.4f}'.format(epoch+1, epochs, loss.item()))\n"
      ],
      "metadata": {
        "id": "UjnbMBLcvqoR"
      },
      "execution_count": 16,
      "outputs": []
    },
    {
      "cell_type": "code",
      "source": [
        "training(1000, model, loss_function, optimizer, train_dataloader)"
      ],
      "metadata": {
        "colab": {
          "base_uri": "https://localhost:8080/"
        },
        "id": "FCHEdyTrxm8b",
        "outputId": "47355ca5-5af0-4672-c064-4721651b1c16"
      },
      "execution_count": 17,
      "outputs": [
        {
          "output_type": "stream",
          "name": "stdout",
          "text": [
            "epochs [10/1000], Loss: 1069.8171\n",
            "epochs [20/1000], Loss: 1340.7288\n",
            "epochs [30/1000], Loss: 288.1100\n",
            "epochs [40/1000], Loss: 482.5612\n",
            "epochs [50/1000], Loss: 133.5607\n",
            "epochs [60/1000], Loss: 229.2972\n",
            "epochs [70/1000], Loss: 73.7477\n",
            "epochs [80/1000], Loss: 27.3150\n",
            "epochs [90/1000], Loss: 23.0818\n",
            "epochs [100/1000], Loss: 678.8109\n",
            "epochs [110/1000], Loss: 651.3300\n",
            "epochs [120/1000], Loss: 631.9965\n",
            "epochs [130/1000], Loss: 36.6731\n",
            "epochs [140/1000], Loss: 31.4364\n",
            "epochs [150/1000], Loss: 601.0162\n",
            "epochs [160/1000], Loss: 600.3275\n",
            "epochs [170/1000], Loss: 13.0840\n",
            "epochs [180/1000], Loss: 591.9799\n",
            "epochs [190/1000], Loss: 27.6712\n",
            "epochs [200/1000], Loss: 575.7699\n",
            "epochs [210/1000], Loss: 17.1904\n",
            "epochs [220/1000], Loss: 559.5034\n",
            "epochs [230/1000], Loss: 566.4427\n",
            "epochs [240/1000], Loss: 558.7565\n",
            "epochs [250/1000], Loss: 40.9143\n",
            "epochs [260/1000], Loss: 36.2884\n",
            "epochs [270/1000], Loss: 551.0006\n",
            "epochs [280/1000], Loss: 536.5843\n",
            "epochs [290/1000], Loss: 527.9837\n",
            "epochs [300/1000], Loss: 552.7916\n",
            "epochs [310/1000], Loss: 521.1186\n",
            "epochs [320/1000], Loss: 532.9435\n",
            "epochs [330/1000], Loss: 60.1063\n",
            "epochs [340/1000], Loss: 49.7079\n",
            "epochs [350/1000], Loss: 17.3030\n",
            "epochs [360/1000], Loss: 42.6557\n",
            "epochs [370/1000], Loss: 51.1502\n",
            "epochs [380/1000], Loss: 78.8053\n",
            "epochs [390/1000], Loss: 514.5024\n",
            "epochs [400/1000], Loss: 506.2916\n",
            "epochs [410/1000], Loss: 39.0267\n",
            "epochs [420/1000], Loss: 509.6363\n",
            "epochs [430/1000], Loss: 41.5152\n",
            "epochs [440/1000], Loss: 19.8552\n",
            "epochs [450/1000], Loss: 498.7731\n",
            "epochs [460/1000], Loss: 493.9878\n",
            "epochs [470/1000], Loss: 492.4710\n",
            "epochs [480/1000], Loss: 42.3298\n",
            "epochs [490/1000], Loss: 35.1349\n",
            "epochs [500/1000], Loss: 489.6007\n",
            "epochs [510/1000], Loss: 494.7250\n",
            "epochs [520/1000], Loss: 40.6239\n",
            "epochs [530/1000], Loss: 6.8386\n",
            "epochs [540/1000], Loss: 24.6898\n",
            "epochs [550/1000], Loss: 515.1664\n",
            "epochs [560/1000], Loss: 29.0529\n",
            "epochs [570/1000], Loss: 479.1189\n",
            "epochs [580/1000], Loss: 34.6349\n",
            "epochs [590/1000], Loss: 482.7377\n",
            "epochs [600/1000], Loss: 39.7072\n",
            "epochs [610/1000], Loss: 499.2125\n",
            "epochs [620/1000], Loss: 36.9896\n",
            "epochs [630/1000], Loss: 38.7417\n",
            "epochs [640/1000], Loss: 38.4184\n",
            "epochs [650/1000], Loss: 477.2508\n",
            "epochs [660/1000], Loss: 495.0120\n",
            "epochs [670/1000], Loss: 488.0740\n",
            "epochs [680/1000], Loss: 487.5596\n",
            "epochs [690/1000], Loss: 509.6096\n",
            "epochs [700/1000], Loss: 17.0386\n",
            "epochs [710/1000], Loss: 47.6369\n",
            "epochs [720/1000], Loss: 50.3885\n",
            "epochs [730/1000], Loss: 495.4360\n",
            "epochs [740/1000], Loss: 489.8653\n",
            "epochs [750/1000], Loss: 468.7829\n",
            "epochs [760/1000], Loss: 484.7039\n",
            "epochs [770/1000], Loss: 16.1526\n",
            "epochs [780/1000], Loss: 52.2194\n",
            "epochs [790/1000], Loss: 488.3752\n",
            "epochs [800/1000], Loss: 50.5048\n",
            "epochs [810/1000], Loss: 52.2985\n",
            "epochs [820/1000], Loss: 53.9129\n",
            "epochs [830/1000], Loss: 6.8297\n",
            "epochs [840/1000], Loss: 88.6240\n",
            "epochs [850/1000], Loss: 15.3026\n",
            "epochs [860/1000], Loss: 19.6262\n",
            "epochs [870/1000], Loss: 23.7442\n",
            "epochs [880/1000], Loss: 12.0913\n",
            "epochs [890/1000], Loss: 68.5527\n",
            "epochs [900/1000], Loss: 462.5837\n",
            "epochs [910/1000], Loss: 54.2582\n",
            "epochs [920/1000], Loss: 15.4881\n",
            "epochs [930/1000], Loss: 52.9341\n",
            "epochs [940/1000], Loss: 62.9504\n",
            "epochs [950/1000], Loss: 455.8425\n",
            "epochs [960/1000], Loss: 39.4596\n",
            "epochs [970/1000], Loss: 451.7237\n",
            "epochs [980/1000], Loss: 46.7036\n",
            "epochs [990/1000], Loss: 61.2019\n",
            "epochs [1000/1000], Loss: 24.6905\n"
          ]
        }
      ]
    },
    {
      "cell_type": "code",
      "source": [
        "predicciones = model(inputs)\n",
        "predicciones"
      ],
      "metadata": {
        "colab": {
          "base_uri": "https://localhost:8080/"
        },
        "id": "lTYIgTyy1U_Y",
        "outputId": "811479ae-6f58-483c-87c2-59b3950a406c"
      },
      "execution_count": 18,
      "outputs": [
        {
          "output_type": "execute_result",
          "data": {
            "text/plain": [
              "tensor([[ 59.2026,  70.5242],\n",
              "        [ 91.4952, 100.3366],\n",
              "        [117.5317, 133.1944],\n",
              "        [ 15.6614,  37.8672],\n",
              "        [119.4805, 118.1731],\n",
              "        [ 57.8703,  69.4381],\n",
              "        [ 92.1973, 100.3960],\n",
              "        [118.2858, 133.7715],\n",
              "        [ 16.9937,  38.9534],\n",
              "        [121.5148, 119.3187],\n",
              "        [ 59.9046,  70.5836],\n",
              "        [ 90.1629,  99.2505],\n",
              "        [116.8297, 133.1350],\n",
              "        [ 13.6271,  36.7217],\n",
              "        [120.8128, 119.2593]], grad_fn=<AddmmBackward0>)"
            ]
          },
          "metadata": {},
          "execution_count": 18
        }
      ]
    },
    {
      "cell_type": "code",
      "source": [
        "targets"
      ],
      "metadata": {
        "colab": {
          "base_uri": "https://localhost:8080/"
        },
        "id": "V52gBdST1dMD",
        "outputId": "8fb0763c-c3bd-44da-fa82-a6bc88bc5de0"
      },
      "execution_count": 19,
      "outputs": [
        {
          "output_type": "execute_result",
          "data": {
            "text/plain": [
              "tensor([[ 56.,  70.],\n",
              "        [ 81., 101.],\n",
              "        [119., 133.],\n",
              "        [ 22.,  37.],\n",
              "        [185., 119.],\n",
              "        [ 57.,  69.],\n",
              "        [ 82., 102.],\n",
              "        [118., 132.],\n",
              "        [ 21.,  38.],\n",
              "        [104., 118.],\n",
              "        [ 57.,  69.],\n",
              "        [ 82., 100.],\n",
              "        [118., 134.],\n",
              "        [ 20.,  38.],\n",
              "        [102., 120.]])"
            ]
          },
          "metadata": {},
          "execution_count": 19
        }
      ]
    }
  ]
}