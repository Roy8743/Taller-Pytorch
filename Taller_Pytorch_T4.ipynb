{
  "nbformat": 4,
  "nbformat_minor": 0,
  "metadata": {
    "colab": {
      "name": "Taller_Pytorch_T4.ipynb",
      "provenance": [],
      "collapsed_sections": []
    },
    "kernelspec": {
      "name": "python3",
      "display_name": "Python 3"
    },
    "language_info": {
      "name": "python"
    }
  },
  "cells": [
    {
      "cell_type": "markdown",
      "source": [
        "# Estudiante: Roy Chavarría Garita\n",
        "## Semana #4"
      ],
      "metadata": {
        "id": "UtakeBZ4m7jM"
      }
    },
    {
      "cell_type": "markdown",
      "source": [
        "### Ejercicios\n",
        "-Replicar lo visto en el video https://youtu.be/CYtLtIsdeSg"
      ],
      "metadata": {
        "id": "b0hklq_hm_ym"
      }
    },
    {
      "cell_type": "markdown",
      "source": [
        "# Objetivos\n",
        "- Implementar modelo en pytirch usando regresión logistica capaz de conocer imágenes\n",
        "- Reconocer problemas de clasificación y de entrenamiento de un modelo\n",
        "- Ejecutar el guardado y cargado de un modelo"
      ],
      "metadata": {
        "id": "PNoVuKLjnZPy"
      }
    },
    {
      "cell_type": "markdown",
      "source": [
        "# Imagen a utilizar\n",
        "![](https://camo.githubusercontent.com/01c057a753e92a9bc70b8c45d62b295431851c09cffadf53106fc0aea7e2843f/687474703a2f2f692e7974696d672e636f6d2f76692f3051493378675875422d512f687164656661756c742e6a7067)\n"
      ],
      "metadata": {
        "id": "3buLZJOmoeg1"
      }
    },
    {
      "cell_type": "code",
      "source": [
        " !pip install numpy matplotlib torch torchvision"
      ],
      "metadata": {
        "colab": {
          "base_uri": "https://localhost:8080/"
        },
        "id": "xK_TRTfHnC-v",
        "outputId": "95b55bcc-e00a-48e8-e2bc-d3f7b038bbd9"
      },
      "execution_count": 192,
      "outputs": [
        {
          "output_type": "stream",
          "name": "stdout",
          "text": [
            "Requirement already satisfied: numpy in /usr/local/lib/python3.7/dist-packages (1.21.6)\n",
            "Requirement already satisfied: matplotlib in /usr/local/lib/python3.7/dist-packages (3.2.2)\n",
            "Requirement already satisfied: torch in /usr/local/lib/python3.7/dist-packages (1.11.0+cu113)\n",
            "Requirement already satisfied: torchvision in /usr/local/lib/python3.7/dist-packages (0.12.0+cu113)\n",
            "Requirement already satisfied: pyparsing!=2.0.4,!=2.1.2,!=2.1.6,>=2.0.1 in /usr/local/lib/python3.7/dist-packages (from matplotlib) (3.0.8)\n",
            "Requirement already satisfied: cycler>=0.10 in /usr/local/lib/python3.7/dist-packages (from matplotlib) (0.11.0)\n",
            "Requirement already satisfied: python-dateutil>=2.1 in /usr/local/lib/python3.7/dist-packages (from matplotlib) (2.8.2)\n",
            "Requirement already satisfied: kiwisolver>=1.0.1 in /usr/local/lib/python3.7/dist-packages (from matplotlib) (1.4.2)\n",
            "Requirement already satisfied: typing-extensions in /usr/local/lib/python3.7/dist-packages (from kiwisolver>=1.0.1->matplotlib) (4.2.0)\n",
            "Requirement already satisfied: six>=1.5 in /usr/local/lib/python3.7/dist-packages (from python-dateutil>=2.1->matplotlib) (1.15.0)\n",
            "Requirement already satisfied: requests in /usr/local/lib/python3.7/dist-packages (from torchvision) (2.23.0)\n",
            "Requirement already satisfied: pillow!=8.3.*,>=5.3.0 in /usr/local/lib/python3.7/dist-packages (from torchvision) (7.1.2)\n",
            "Requirement already satisfied: idna<3,>=2.5 in /usr/local/lib/python3.7/dist-packages (from requests->torchvision) (2.10)\n",
            "Requirement already satisfied: certifi>=2017.4.17 in /usr/local/lib/python3.7/dist-packages (from requests->torchvision) (2021.10.8)\n",
            "Requirement already satisfied: urllib3!=1.25.0,!=1.25.1,<1.26,>=1.21.1 in /usr/local/lib/python3.7/dist-packages (from requests->torchvision) (1.24.3)\n",
            "Requirement already satisfied: chardet<4,>=3.0.2 in /usr/local/lib/python3.7/dist-packages (from requests->torchvision) (3.0.4)\n"
          ]
        }
      ]
    },
    {
      "cell_type": "code",
      "source": [
        "import torch\n",
        "import torchvision\n",
        "from torchvision.datasets import MNIST\n",
        " "
      ],
      "metadata": {
        "id": "YH0jwP7CnS1g"
      },
      "execution_count": 193,
      "outputs": []
    },
    {
      "cell_type": "markdown",
      "source": [
        "Se descarga el dataset, contiene 60mil imágenes solo para entrenar al modelo, aparte existe 10k imágenes adicionales para evaluar el modelo.\n"
      ],
      "metadata": {
        "id": "6l4CoEhbp5jr"
      }
    },
    {
      "cell_type": "code",
      "source": [
        "dataset = MNIST(root='data/', download=True)"
      ],
      "metadata": {
        "id": "Fol5OyuOpkNa"
      },
      "execution_count": 194,
      "outputs": []
    },
    {
      "cell_type": "code",
      "source": [
        "# Bandera train para indicar si queremos conjunto de entrenamiento o evaluación\n",
        "test_dataset = MNIST(root='data/', train=False)\n",
        "print(len(test_dataset))"
      ],
      "metadata": {
        "colab": {
          "base_uri": "https://localhost:8080/"
        },
        "id": "rbHRKyrGqR_Q",
        "outputId": "30adeee9-9e83-433e-fa28-8666f4828a5c"
      },
      "execution_count": 195,
      "outputs": [
        {
          "output_type": "stream",
          "name": "stdout",
          "text": [
            "10000\n"
          ]
        }
      ]
    },
    {
      "cell_type": "markdown",
      "source": [
        "Ejemplo para mostrar par con input y target"
      ],
      "metadata": {
        "id": "vh-UuPS2qsN_"
      }
    },
    {
      "cell_type": "code",
      "source": [
        "dataset[0]\n",
        "a,b = dataset[0]\n",
        "print(a,b)"
      ],
      "metadata": {
        "colab": {
          "base_uri": "https://localhost:8080/"
        },
        "id": "v9RsKukEqzry",
        "outputId": "bde26608-407e-4815-fe9d-93b493247526"
      },
      "execution_count": 196,
      "outputs": [
        {
          "output_type": "stream",
          "name": "stdout",
          "text": [
            "<PIL.Image.Image image mode=L size=28x28 at 0x7F2D220B3110> 5\n"
          ]
        }
      ]
    },
    {
      "cell_type": "code",
      "source": [
        "import matplotlib.pyplot as plt\n",
        "%matplotlib inline"
      ],
      "metadata": {
        "id": "Sp9MlGv_q9UI"
      },
      "execution_count": 197,
      "outputs": []
    },
    {
      "cell_type": "code",
      "source": [
        "imagen, etiqueta = dataset[0]\n",
        "print(imagen,\"Etiqueta o número: \"+str(etiqueta))\n",
        "plt.imshow(imagen, cmap='gray')"
      ],
      "metadata": {
        "colab": {
          "base_uri": "https://localhost:8080/",
          "height": 300
        },
        "id": "GLbVd_9ArftX",
        "outputId": "3ea25149-5fd6-493c-806b-99f93bf0af46"
      },
      "execution_count": 198,
      "outputs": [
        {
          "output_type": "stream",
          "name": "stdout",
          "text": [
            "<PIL.Image.Image image mode=L size=28x28 at 0x7F2D2223BE90> Etiqueta o número: 5\n"
          ]
        },
        {
          "output_type": "execute_result",
          "data": {
            "text/plain": [
              "<matplotlib.image.AxesImage at 0x7f2d239b0210>"
            ]
          },
          "metadata": {},
          "execution_count": 198
        },
        {
          "output_type": "display_data",
          "data": {
            "text/plain": [
              "<Figure size 432x288 with 1 Axes>"
            ],
            "image/png": "[encoded data removed]"
          },
          "metadata": {
            "needs_background": "light"
          }
        }
      ]
    },
    {
      "cell_type": "markdown",
      "source": [
        "Pytorch no traba con imagenes por lo que debemos de pasarlas a tensores"
      ],
      "metadata": {
        "id": "s2VPHzXBuBew"
      }
    },
    {
      "cell_type": "code",
      "source": [
        "import torchvision.transforms  as transforms"
      ],
      "metadata": {
        "id": "Yn4gBf8huGCW"
      },
      "execution_count": 199,
      "outputs": []
    },
    {
      "cell_type": "code",
      "source": [
        "# Mnist dataset (imagenes y etiquetas)\n",
        "dataset = MNIST(root='data/',\n",
        "                train=True,\n",
        "                transform=transforms.ToTensor())\n",
        "imagen , etiqueta = dataset[0]\n",
        "#print(imagen)"
      ],
      "metadata": {
        "id": "opPq4JdSu6v0"
      },
      "execution_count": 200,
      "outputs": []
    },
    {
      "cell_type": "markdown",
      "source": [
        "# Definicion de conjunto de datos\n",
        "\n",
        "- Training: para entrenar al modelo\n",
        "- Validation: para evaluar modelo durante el entrenamiento.\n",
        "- Existe Test: comparar nuestro modelo con otro y ver que tan preciso es."
      ],
      "metadata": {
        "id": "goNEdfRevhYs"
      }
    },
    {
      "cell_type": "code",
      "source": [
        "from torch.utils.data import random_split\n",
        "dataset = MNIST(root='data/',\n",
        "                train=True,\n",
        "                transform=transforms.ToTensor())\n",
        "train_dataset, validation_dataset = random_split(dataset, [50000, 10000])"
      ],
      "metadata": {
        "id": "Hwfg2MkuvkwZ"
      },
      "execution_count": 201,
      "outputs": []
    },
    {
      "cell_type": "markdown",
      "source": [
        "Creacion de dataloaders y datasetss"
      ],
      "metadata": {
        "id": "2LHjPhdGwfiI"
      }
    },
    {
      "cell_type": "code",
      "source": [
        "from torch.utils.data import DataLoader\n",
        "\n",
        "batch_size = 128\n",
        "\n",
        "train_dataloader = DataLoader(train_dataset, batch_size, shuffle=True)\n",
        "validation_dataloader = DataLoader(validation_dataset, batch_size)"
      ],
      "metadata": {
        "id": "uoSYshB4wifS"
      },
      "execution_count": 202,
      "outputs": []
    },
    {
      "cell_type": "markdown",
      "source": [
        "# Definición de modelo\n",
        " Usamos la funcion nn.linear()\n",
        " Recibe cantidad de elementos de input al modelo y otro parámetro que indica la cantidad de elementos a predecir\n",
        "\n",
        " Como lo de manzanas y naranjas, el primer parámetro son la cantidad de características y el segundo parámetro es la cantidad de respuestas a esas características (naranjas,manzanas)"
      ],
      "metadata": {
        "id": "mNoxh87exHGR"
      }
    },
    {
      "cell_type": "code",
      "source": [
        "import torch.nn as nn\n",
        "\n",
        "#Pixeles\n",
        "input_size = 1*28*28\n",
        "\n",
        "# Numeros del 0 al 9\n",
        "output_size = 10\n",
        "\n",
        "# MOdelo de regresión\n",
        "model = nn.Linear(input_size, output_size)"
      ],
      "metadata": {
        "id": "oaEZh_UWxxwi"
      },
      "execution_count": 203,
      "outputs": []
    },
    {
      "cell_type": "markdown",
      "source": [
        "Model retorna pesos y sesgos asignados automaticamente\n"
      ],
      "metadata": {
        "id": "9nFEnNQ_0fNu"
      }
    },
    {
      "cell_type": "code",
      "source": [
        "print(model.weight.shape)\n",
        "model.weight"
      ],
      "metadata": {
        "colab": {
          "base_uri": "https://localhost:8080/"
        },
        "id": "oLbLj0Hh0nR6",
        "outputId": "4d21caed-2dad-45c1-8e7a-4d04d175ac41"
      },
      "execution_count": 204,
      "outputs": [
        {
          "output_type": "stream",
          "name": "stdout",
          "text": [
            "torch.Size([10, 784])\n"
          ]
        },
        {
          "output_type": "execute_result",
          "data": {
            "text/plain": [
              "Parameter containing:\n",
              "tensor([[ 0.0143,  0.0300, -0.0230,  ..., -0.0013, -0.0121,  0.0231],\n",
              "        [ 0.0199,  0.0093, -0.0353,  ...,  0.0203, -0.0031, -0.0314],\n",
              "        [ 0.0299,  0.0040,  0.0019,  ..., -0.0312,  0.0241,  0.0300],\n",
              "        ...,\n",
              "        [ 0.0201,  0.0110, -0.0277,  ..., -0.0018, -0.0035, -0.0236],\n",
              "        [ 0.0325,  0.0077, -0.0180,  ...,  0.0155, -0.0250,  0.0089],\n",
              "        [ 0.0092,  0.0316, -0.0181,  ..., -0.0292,  0.0220,  0.0213]],\n",
              "       requires_grad=True)"
            ]
          },
          "metadata": {},
          "execution_count": 204
        }
      ]
    },
    {
      "cell_type": "code",
      "source": [
        "print(model.bias.shape)\n",
        "model.bias"
      ],
      "metadata": {
        "colab": {
          "base_uri": "https://localhost:8080/"
        },
        "id": "WXieAUXf0xEq",
        "outputId": "5fdf3afc-3fd3-4f60-d4a2-6879370dfa8d"
      },
      "execution_count": 205,
      "outputs": [
        {
          "output_type": "stream",
          "name": "stdout",
          "text": [
            "torch.Size([10])\n"
          ]
        },
        {
          "output_type": "execute_result",
          "data": {
            "text/plain": [
              "Parameter containing:\n",
              "tensor([ 0.0275, -0.0270,  0.0298, -0.0092,  0.0131,  0.0216, -0.0023,  0.0139,\n",
              "         0.0315,  0.0161], requires_grad=True)"
            ]
          },
          "metadata": {},
          "execution_count": 205
        }
      ]
    },
    {
      "cell_type": "markdown",
      "source": [
        "El modelo espera un vector de 784 ya que el tamaño del input es de 1x28x28, pero la imagen es una matriz de 1x28x28 por esta razon se hace un reshape"
      ],
      "metadata": {
        "id": "GfNR93oc08mi"
      }
    },
    {
      "cell_type": "code",
      "source": [
        "imagen, etiqueta = train_dataset[0]\n",
        "print(imagen.shape)\n",
        "imagen = imagen.reshape(-1,784)\n",
        "prediccion = model(imagen)\n",
        "prediccion"
      ],
      "metadata": {
        "colab": {
          "base_uri": "https://localhost:8080/"
        },
        "id": "0IxDW3Ar38mP",
        "outputId": "936f3600-da16-477e-fbbb-9e62716e5dcf"
      },
      "execution_count": 206,
      "outputs": [
        {
          "output_type": "stream",
          "name": "stdout",
          "text": [
            "torch.Size([1, 28, 28])\n"
          ]
        },
        {
          "output_type": "execute_result",
          "data": {
            "text/plain": [
              "tensor([[ 0.2021, -0.2763,  0.3498, -0.1892,  0.2489, -0.0891, -0.0152,  0.0241,\n",
              "          0.0438, -0.0445]], grad_fn=<AddmmBackward0>)"
            ]
          },
          "metadata": {},
          "execution_count": 206
        }
      ]
    },
    {
      "cell_type": "markdown",
      "source": [
        "Aparte se puede hacer una clase propia que extiende de la clase nn.MOdule para poder modificar nuestro modlo a nuestro antojo y también poder hacer que se haga el reshape dentro"
      ],
      "metadata": {
        "id": "e8nb2KGo6WhK"
      }
    },
    {
      "cell_type": "code",
      "source": [
        "class Model(nn.Module):\n",
        "  def __init__(self):\n",
        "    super().__init__()\n",
        "    self.Linear = nn.Linear(input_size, output_size)\n",
        "  \n",
        "  def forward(self, imagen):\n",
        "    imagen = imagen.reshape(-1,784)\n",
        "    prediccion = self.Linear(imagen)\n",
        "    return prediccion\n",
        "model = Model()\n",
        "imagen.etiqueta = train_dataset[0]\n",
        "prediccion = model(imagen)\n",
        "print(prediccion)"
      ],
      "metadata": {
        "colab": {
          "base_uri": "https://localhost:8080/"
        },
        "id": "FrN-x1oZ6V3Q",
        "outputId": "8bd9f8fb-dc3a-4e70-c176-1c0e8382533b"
      },
      "execution_count": 207,
      "outputs": [
        {
          "output_type": "stream",
          "name": "stdout",
          "text": [
            "tensor([[-0.0005, -0.1056, -0.2664, -0.0235,  0.0289,  0.0042,  0.3203,  0.1522,\n",
            "         -0.1198,  0.0003]], grad_fn=<AddmmBackward0>)\n"
          ]
        }
      ]
    },
    {
      "cell_type": "code",
      "source": [
        "print(model.Linear.weight.shape, model.Linear.bias.shape)\n",
        "list(model.parameters())"
      ],
      "metadata": {
        "colab": {
          "base_uri": "https://localhost:8080/"
        },
        "id": "9cgfyPnE7vPZ",
        "outputId": "525bfdaf-fbb4-4f82-c0df-b2e553b55b62"
      },
      "execution_count": 208,
      "outputs": [
        {
          "output_type": "stream",
          "name": "stdout",
          "text": [
            "torch.Size([10, 784]) torch.Size([10])\n"
          ]
        },
        {
          "output_type": "execute_result",
          "data": {
            "text/plain": [
              "[Parameter containing:\n",
              " tensor([[-0.0124, -0.0289,  0.0335,  ..., -0.0278, -0.0114,  0.0137],\n",
              "         [-0.0140, -0.0354, -0.0030,  ..., -0.0199, -0.0060,  0.0146],\n",
              "         [ 0.0147,  0.0223, -0.0260,  ...,  0.0228, -0.0132,  0.0008],\n",
              "         ...,\n",
              "         [-0.0117,  0.0295, -0.0047,  ...,  0.0279,  0.0294, -0.0291],\n",
              "         [-0.0216, -0.0050, -0.0134,  ...,  0.0226, -0.0325,  0.0357],\n",
              "         [ 0.0122, -0.0019,  0.0210,  ..., -0.0078,  0.0032,  0.0103]],\n",
              "        requires_grad=True), Parameter containing:\n",
              " tensor([-0.0296, -0.0123,  0.0026,  0.0038, -0.0293,  0.0258,  0.0060,  0.0237,\n",
              "          0.0143, -0.0117], requires_grad=True)]"
            ]
          },
          "metadata": {},
          "execution_count": 208
        }
      ]
    },
    {
      "cell_type": "markdown",
      "source": [
        "La prediccion es una lista de de 10 numeros, debemos hacer que estos numeros sean la probabilidad de que ese numero sea el numero de la imagen\n",
        "\n",
        "La funcion softmax convierte estos valores en probabilidades, para que nada mas tengamos que sacar el maximo valor que significaría el numero que es más probable que sea la imagen."
      ],
      "metadata": {
        "id": "gcFZwAc-72pU"
      }
    },
    {
      "cell_type": "code",
      "source": [
        "import torch.nn.functional as F\n",
        "\n",
        "# Se aplica sofmax a las salidas\n",
        "probabilidades = F.softmax(prediccion, dim=1)\n",
        "\n",
        "maxima_probabilidad, numero = torch.max(probabilidades, dim=1)\n",
        "print(numero)\n",
        "print(maxima_probabilidad)\n",
        "\n",
        "def predecir_imagen(predicciones):\n",
        "  probabilidades = F.softmax(predicciones, dim=1)\n",
        "  maxima_probabilidad, numero = torch.max(probabilidades, dim=1)\n",
        "  return numero.item()  #saco el numero ya que variable es un tesor\n",
        "print(predecir_imagen(prediccion))"
      ],
      "metadata": {
        "colab": {
          "base_uri": "https://localhost:8080/"
        },
        "id": "xGbnWRHt8Tk5",
        "outputId": "80e27e00-0f7e-4cac-86fe-213fe58ec437"
      },
      "execution_count": 209,
      "outputs": [
        {
          "output_type": "stream",
          "name": "stdout",
          "text": [
            "tensor([6])\n",
            "tensor([0.1363], grad_fn=<MaxBackward0>)\n",
            "6\n"
          ]
        }
      ]
    },
    {
      "cell_type": "code",
      "source": [
        "# Se define funcion de loss y creamos metrica de evaluación\n",
        "\n",
        "import torch.nn.functional as F\n",
        "\n",
        "loss_function = F.cross_entropy\n",
        "\n",
        "for imagenes, etiqutas in train_dataloader:\n",
        "  predicciones = model(imagenes)\n",
        "  break\n",
        "\n",
        "loss = loss_function(predicciones, etiqutas)\n",
        "print(loss)"
      ],
      "metadata": {
        "colab": {
          "base_uri": "https://localhost:8080/"
        },
        "id": "_7qBMqDWDsLr",
        "outputId": "db004284-072d-463a-b6ce-f95554dc7cf7"
      },
      "execution_count": 210,
      "outputs": [
        {
          "output_type": "stream",
          "name": "stdout",
          "text": [
            "tensor(2.2947, grad_fn=<NllLossBackward0>)\n"
          ]
        }
      ]
    },
    {
      "cell_type": "code",
      "source": [
        "# recibe preddicciones y etiquetas 128 y devuelve el porcentaje de las predicciones que están buenas\n",
        "\n",
        "def accurancy(predicciones, etiquetas):\n",
        "  _, numeros_predecidos = torch.max(predicciones, dim=1)\n",
        "  return torch.tensor(torch.sum(numeros_predecidos == etiquetas).item() / len(numeros_predecidos))"
      ],
      "metadata": {
        "id": "lyY1PvgIEe_W"
      },
      "execution_count": 211,
      "outputs": []
    },
    {
      "cell_type": "markdown",
      "source": [
        "# Entrenamiento del modelo\n",
        "LO mismo que en videos anteriores, pero con un paso extra para validar el modelo con el conjunto de validación"
      ],
      "metadata": {
        "id": "VQYesA3UFE9i"
      }
    },
    {
      "cell_type": "code",
      "source": [
        "def trainig(model,epochs, learning_rate, train_dataloader, validation_dataloader):\n",
        "  optimizer = torch.optim.SGD(model.parameters(), learning_rate)\n",
        "\n",
        "  for epoch in range(epochs):\n",
        "    #Fase de entrenamiento\n",
        "    for batch in train_dataloader:\n",
        "\n",
        "      #genero predicciones\n",
        "      imagenes, etiquetas = batch\n",
        "      predicciones = model(imagenes)\n",
        "      loss = F.cross_entropy(predicciones, etiquetas)\n",
        "\n",
        "      #calculo de gradiente\n",
        "      loss.backward()\n",
        "\n",
        "      #ajusto pesos y sesgos\n",
        "      optimizer.step()\n",
        "\n",
        "    for batch in validation_dataloader:\n",
        "      imagenes, etiquetas = batch\n",
        "      predicciones = model(imagenes)\n",
        "      loss = F.cross_entropy(predicciones, etiquetas)\n",
        "      acc = accurancy(predicciones, etiquetas)\n",
        "\n",
        "    print(\"Loss: \"+str(loss)+\"Acurrancy: \"+str(acc))"
      ],
      "metadata": {
        "id": "-e4B88-1FDa7"
      },
      "execution_count": 215,
      "outputs": []
    },
    {
      "cell_type": "code",
      "source": [
        "trainig(model,5,0.05, train_dataloader, validation_dataloader)"
      ],
      "metadata": {
        "colab": {
          "base_uri": "https://localhost:8080/"
        },
        "id": "2zV3XN2HGuj5",
        "outputId": "9557c5c5-1d2d-4621-a1e9-8b62c90607eb"
      },
      "execution_count": 216,
      "outputs": [
        {
          "output_type": "stream",
          "name": "stdout",
          "text": [
            "Loss: tensor(1.8310, grad_fn=<NllLossBackward0>)Acurrancy: tensor(0.8125)\n",
            "Loss: tensor(4.3023, grad_fn=<NllLossBackward0>)Acurrancy: tensor(0.8125)\n",
            "Loss: tensor(3.6058, grad_fn=<NllLossBackward0>)Acurrancy: tensor(0.8125)\n",
            "Loss: tensor(5.6528, grad_fn=<NllLossBackward0>)Acurrancy: tensor(0.8125)\n",
            "Loss: tensor(1.1636, grad_fn=<NllLossBackward0>)Acurrancy: tensor(0.9375)\n"
          ]
        }
      ]
    },
    {
      "cell_type": "markdown",
      "source": [
        "# Probar la prediccion de imagenes"
      ],
      "metadata": {
        "id": "PuEhmHemHJjq"
      }
    },
    {
      "cell_type": "code",
      "source": [
        "from matplotlib import test\n",
        "#defino dataset para leer imagenes\n",
        "test_dataset = MNIST(root='data/',\n",
        "                     train=False,\n",
        "                     transform=transforms.ToTensor())\n",
        "\n",
        "#agarro una de las imagenes con su etiqueta\n",
        "imagen, etiqueta = test_dataset[2]\n",
        "plt.imshow(imagen[0], cmap='gray')\n",
        "\n",
        "imagen = imagen.unsqueeze(0)\n",
        "predicciones = model(imagen)\n",
        "print(\"Etiquetas\", etiqueta, \"Imagen preecida por el modelo: \", predecir_imagen(predicciones))"
      ],
      "metadata": {
        "colab": {
          "base_uri": "https://localhost:8080/",
          "height": 282
        },
        "id": "TikKtoJuHIiN",
        "outputId": "711c973b-dfe3-4910-c4f1-0880e26abd9d"
      },
      "execution_count": 219,
      "outputs": [
        {
          "output_type": "stream",
          "name": "stdout",
          "text": [
            "Etiquetas 1 Imagen preecida por el modelo:  1\n"
          ]
        },
        {
          "output_type": "display_data",
          "data": {
            "text/plain": [
              "<Figure size 432x288 with 1 Axes>"
            ],
            "image/png": "[encoded data removed]"
          },
          "metadata": {
            "needs_background": "light"
          }
        }
      ]
    }
  ]
}